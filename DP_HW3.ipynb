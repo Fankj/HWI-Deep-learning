{
  "nbformat": 4,
  "nbformat_minor": 0,
  "metadata": {
    "colab": {
      "name": "DP-HW3.ipynb",
      "provenance": [],
      "machine_shape": "hm"
    },
    "kernelspec": {
      "name": "python3",
      "display_name": "Python 3"
    }
  },
  "cells": [
    {
      "cell_type": "markdown",
      "metadata": {
        "id": "Ij5POFrRjm3q",
        "colab_type": "text"
      },
      "source": [
        "# **Homework3**\n",
        "\n",
        "Kangjing fan"
      ]
    },
    {
      "cell_type": "markdown",
      "metadata": {
        "id": "nT9bxbeYPadw",
        "colab_type": "text"
      },
      "source": [
        "### 1. Autoencoder"
      ]
    },
    {
      "cell_type": "code",
      "metadata": {
        "id": "_OhTb-KoOLkS",
        "colab_type": "code",
        "colab": {}
      },
      "source": [
        "from keras.layers import Dropout,Flatten,Embedding,LSTM,Conv1D,AveragePooling1D,BatchNormalization\n",
        "from keras.models import Model, Sequential\n",
        "from keras.datasets import fashion_mnist\n",
        "from keras.layers import Input, Dense, Conv2D, MaxPooling2D, UpSampling2D, GlobalMaxPooling1D\n",
        "import pandas as pd\n",
        "import numpy as np\n",
        "import matplotlib.pyplot as plt\n",
        "%matplotlib inline"
      ],
      "execution_count": 0,
      "outputs": []
    },
    {
      "cell_type": "code",
      "metadata": {
        "id": "wMVzhu7sDDWM",
        "colab_type": "code",
        "colab": {
          "base_uri": "https://localhost:8080/",
          "height": 51
        },
        "outputId": "b843b3cf-8596-477c-dff8-cd6a3a21dee1"
      },
      "source": [
        "(x_train, y_train), (x_test, y_test) = fashion_mnist.load_data()\n",
        "x_train = x_train.astype('float32') / 255.\n",
        "x_test = x_test.astype('float32') / 255.\n",
        "x_train = np.reshape(x_train, (len(x_train), 28, 28, 1))\n",
        "x_test = np.reshape(x_test, (len(x_test), 28, 28, 1))\n",
        "print(x_train.shape)\n",
        "print(x_test.shape)"
      ],
      "execution_count": 66,
      "outputs": [
        {
          "output_type": "stream",
          "text": [
            "(60000, 28, 28, 1)\n",
            "(10000, 28, 28, 1)\n"
          ],
          "name": "stdout"
        }
      ]
    },
    {
      "cell_type": "code",
      "metadata": {
        "id": "TtGaHQAFRWhu",
        "colab_type": "code",
        "colab": {
          "base_uri": "https://localhost:8080/",
          "height": 649
        },
        "outputId": "60ed6014-170c-4cb9-a5ff-89d3296440b7"
      },
      "source": [
        "autoenc = Sequential()\n",
        "#encoding\n",
        "\n",
        "autoenc.add(Conv2D(16, (3,3), activation= 'relu', padding='same', input_shape = (28,28,1)))\n",
        "autoenc.add(MaxPooling2D((2,2), padding ='same'))\n",
        "autoenc.add(Conv2D(8, (3,3), activation= 'relu', padding='same'))\n",
        "autoenc.add(MaxPooling2D((2,2), padding = 'same'))\n",
        "autoenc.add(Conv2D(8, (3,3), activation= 'relu', padding='same'))\n",
        "autoenc.add(MaxPooling2D((2,2), padding = 'same'))\n",
        "\n",
        "# decoding\n",
        "autoenc.add(Conv2D(8, (3,3), activation= 'relu', padding='same'))\n",
        "autoenc.add(UpSampling2D((2,2)))\n",
        "autoenc.add(Conv2D(8, (3,3), activation= 'relu', padding='same'))\n",
        "autoenc.add(UpSampling2D((2,2)))\n",
        "autoenc.add(Conv2D(16, (3,3), activation= 'relu'))\n",
        "autoenc.add(UpSampling2D((2,2)))\n",
        "autoenc.add(Conv2D(1, (3,3), activation= 'sigmoid', padding='same'))\n",
        "\n",
        "autoenc.summary()"
      ],
      "execution_count": 67,
      "outputs": [
        {
          "output_type": "stream",
          "text": [
            "WARNING:tensorflow:From /usr/local/lib/python3.6/dist-packages/keras/backend/tensorflow_backend.py:2239: The name tf.image.resize_nearest_neighbor is deprecated. Please use tf.compat.v1.image.resize_nearest_neighbor instead.\n",
            "\n",
            "Model: \"sequential_11\"\n",
            "_________________________________________________________________\n",
            "Layer (type)                 Output Shape              Param #   \n",
            "=================================================================\n",
            "conv2d_3 (Conv2D)            (None, 28, 28, 16)        160       \n",
            "_________________________________________________________________\n",
            "max_pooling2d_3 (MaxPooling2 (None, 14, 14, 16)        0         \n",
            "_________________________________________________________________\n",
            "conv2d_4 (Conv2D)            (None, 14, 14, 8)         1160      \n",
            "_________________________________________________________________\n",
            "max_pooling2d_4 (MaxPooling2 (None, 7, 7, 8)           0         \n",
            "_________________________________________________________________\n",
            "conv2d_5 (Conv2D)            (None, 7, 7, 8)           584       \n",
            "_________________________________________________________________\n",
            "max_pooling2d_5 (MaxPooling2 (None, 4, 4, 8)           0         \n",
            "_________________________________________________________________\n",
            "conv2d_6 (Conv2D)            (None, 4, 4, 8)           584       \n",
            "_________________________________________________________________\n",
            "up_sampling2d_1 (UpSampling2 (None, 8, 8, 8)           0         \n",
            "_________________________________________________________________\n",
            "conv2d_7 (Conv2D)            (None, 8, 8, 8)           584       \n",
            "_________________________________________________________________\n",
            "up_sampling2d_2 (UpSampling2 (None, 16, 16, 8)         0         \n",
            "_________________________________________________________________\n",
            "conv2d_8 (Conv2D)            (None, 14, 14, 16)        1168      \n",
            "_________________________________________________________________\n",
            "up_sampling2d_3 (UpSampling2 (None, 28, 28, 16)        0         \n",
            "_________________________________________________________________\n",
            "conv2d_9 (Conv2D)            (None, 28, 28, 1)         145       \n",
            "=================================================================\n",
            "Total params: 4,385\n",
            "Trainable params: 4,385\n",
            "Non-trainable params: 0\n",
            "_________________________________________________________________\n"
          ],
          "name": "stdout"
        }
      ]
    },
    {
      "cell_type": "code",
      "metadata": {
        "id": "kzn51EkmEm80",
        "colab_type": "code",
        "colab": {}
      },
      "source": [
        "autoenc.compile(optimizer='adadelta', loss='binary_crossentropy')"
      ],
      "execution_count": 0,
      "outputs": []
    },
    {
      "cell_type": "code",
      "metadata": {
        "id": "JYx5Or9mElxe",
        "colab_type": "code",
        "colab": {
          "base_uri": "https://localhost:8080/",
          "height": 561
        },
        "outputId": "90d8204f-afcc-40cc-8307-9c4410f36242"
      },
      "source": [
        "autoenc.fit(x_train, x_train, epochs=15, batch_size=128, shuffle=True, validation_data=(x_test, x_test))"
      ],
      "execution_count": 22,
      "outputs": [
        {
          "output_type": "stream",
          "text": [
            "Train on 60000 samples, validate on 10000 samples\n",
            "Epoch 1/15\n",
            "60000/60000 [==============================] - 80s 1ms/step - loss: 0.3898 - val_loss: 0.3545\n",
            "Epoch 2/15\n",
            "60000/60000 [==============================] - 78s 1ms/step - loss: 0.3513 - val_loss: 0.3324\n",
            "Epoch 3/15\n",
            "60000/60000 [==============================] - 79s 1ms/step - loss: 0.3417 - val_loss: 0.3397\n",
            "Epoch 4/15\n",
            "60000/60000 [==============================] - 79s 1ms/step - loss: 0.3346 - val_loss: 0.3355\n",
            "Epoch 5/15\n",
            "60000/60000 [==============================] - 80s 1ms/step - loss: 0.3288 - val_loss: 0.3153\n",
            "Epoch 6/15\n",
            "60000/60000 [==============================] - 80s 1ms/step - loss: 0.3243 - val_loss: 0.3181\n",
            "Epoch 7/15\n",
            "60000/60000 [==============================] - 80s 1ms/step - loss: 0.3241 - val_loss: 0.3194\n",
            "Epoch 8/15\n",
            "60000/60000 [==============================] - 80s 1ms/step - loss: 0.3249 - val_loss: 0.3180\n",
            "Epoch 9/15\n",
            "60000/60000 [==============================] - 79s 1ms/step - loss: 0.3213 - val_loss: 0.3179\n",
            "Epoch 10/15\n",
            "60000/60000 [==============================] - 80s 1ms/step - loss: 0.3211 - val_loss: 0.3162\n",
            "Epoch 11/15\n",
            "60000/60000 [==============================] - 80s 1ms/step - loss: 0.3203 - val_loss: 0.3160\n",
            "Epoch 12/15\n",
            "60000/60000 [==============================] - 80s 1ms/step - loss: 0.3185 - val_loss: 0.3130\n",
            "Epoch 13/15\n",
            "60000/60000 [==============================] - 80s 1ms/step - loss: 0.3183 - val_loss: 0.3240\n",
            "Epoch 14/15\n",
            "60000/60000 [==============================] - 80s 1ms/step - loss: 0.3176 - val_loss: 0.3109\n",
            "Epoch 15/15\n",
            "60000/60000 [==============================] - 80s 1ms/step - loss: 0.3177 - val_loss: 0.3173\n"
          ],
          "name": "stdout"
        },
        {
          "output_type": "execute_result",
          "data": {
            "text/plain": [
              "<keras.callbacks.History at 0x7f3d66588940>"
            ]
          },
          "metadata": {
            "tags": []
          },
          "execution_count": 22
        }
      ]
    },
    {
      "cell_type": "code",
      "metadata": {
        "id": "9WZLGqCN9Nxi",
        "colab_type": "code",
        "colab": {
          "base_uri": "https://localhost:8080/",
          "height": 263
        },
        "outputId": "56f2ca49-f759-4103-dfcd-aeac4f6851a7"
      },
      "source": [
        "n=10\n",
        "plt.figure(figsize=(20, 4))\n",
        "for k in range(n):\n",
        "    ax = plt.subplot(2, n, k+1)\n",
        "    plt.imshow(x_test[k:k+1,:].reshape((28,28)))\n",
        "    ax = plt.subplot(2, n, k+1 + n)\n",
        "    reconstruction = autoenc.predict(x_test[k:k+1,:])\n",
        "    reconstruction.resize((28,28))\n",
        "    plt.imshow(reconstruction)"
      ],
      "execution_count": 23,
      "outputs": [
        {
          "output_type": "display_data",
          "data": {
            "image/png": "[encoded data removed]",
            "text/plain": [
              "<Figure size 1440x288 with 20 Axes>"
            ]
          },
          "metadata": {
            "tags": []
          }
        }
      ]
    },
    {
      "cell_type": "markdown",
      "metadata": {
        "id": "ps0C7Rl07meb",
        "colab_type": "text"
      },
      "source": [
        "### 2.**Image Classification**"
      ]
    },
    {
      "cell_type": "markdown",
      "metadata": {
        "id": "QMD0gY8r_8lh",
        "colab_type": "text"
      },
      "source": [
        "2.1 Deep CNN"
      ]
    },
    {
      "cell_type": "code",
      "metadata": {
        "id": "tKf9rGsW_6QJ",
        "colab_type": "code",
        "colab": {
          "base_uri": "https://localhost:8080/",
          "height": 68
        },
        "outputId": "4306386a-7b77-47f5-881d-0709146c9c0b"
      },
      "source": [
        "\n",
        "from keras.utils import np_utils\n",
        "from keras.layers import Dropout, Flatten\n",
        "\n",
        "print(y_train.shape)\n",
        "print(y_train[:10])\n",
        "\n",
        "\n",
        "y_train = np_utils.to_categorical(y_train, 10)\n",
        "y_test = np_utils.to_categorical(y_test, 10)\n",
        "\n",
        "print(y_train.shape)"
      ],
      "execution_count": 69,
      "outputs": [
        {
          "output_type": "stream",
          "text": [
            "(60000,)\n",
            "[9 0 0 3 0 2 7 2 5 5]\n",
            "(60000, 10)\n"
          ],
          "name": "stdout"
        }
      ]
    },
    {
      "cell_type": "code",
      "metadata": {
        "id": "_3LSltTXl3wp",
        "colab_type": "code",
        "colab": {
          "base_uri": "https://localhost:8080/",
          "height": 510
        },
        "outputId": "5a745112-dc44-49e5-ff33-a2293628c912"
      },
      "source": [
        "cnn = Sequential()\n",
        "cnn.add(Conv2D(filters =64 ,kernel_size=(4, 4), activation='relu', strides=(1, 1), padding='same',input_shape=(28,28,1)))\n",
        "cnn.add(MaxPooling2D(pool_size=(2,2)))\n",
        "cnn.add(Dropout(0.25))\n",
        "cnn.add(Conv2D(filters = 64,kernel_size=(4, 4), activation='relu', strides=(1, 1), padding='same'))\n",
        "cnn.add(MaxPooling2D(pool_size=(2,2)))\n",
        "cnn.add(Dropout(0.25))\n",
        "cnn.add(Flatten())\n",
        "cnn.add(Dense(64, activation='relu'))\n",
        "cnn.add(Dropout(0.5))\n",
        "cnn.add(Dense(10, activation='softmax'))\n",
        "print(cnn.summary())"
      ],
      "execution_count": 70,
      "outputs": [
        {
          "output_type": "stream",
          "text": [
            "Model: \"sequential_12\"\n",
            "_________________________________________________________________\n",
            "Layer (type)                 Output Shape              Param #   \n",
            "=================================================================\n",
            "conv2d_10 (Conv2D)           (None, 28, 28, 64)        1088      \n",
            "_________________________________________________________________\n",
            "max_pooling2d_6 (MaxPooling2 (None, 14, 14, 64)        0         \n",
            "_________________________________________________________________\n",
            "dropout_8 (Dropout)          (None, 14, 14, 64)        0         \n",
            "_________________________________________________________________\n",
            "conv2d_11 (Conv2D)           (None, 14, 14, 64)        65600     \n",
            "_________________________________________________________________\n",
            "max_pooling2d_7 (MaxPooling2 (None, 7, 7, 64)          0         \n",
            "_________________________________________________________________\n",
            "dropout_9 (Dropout)          (None, 7, 7, 64)          0         \n",
            "_________________________________________________________________\n",
            "flatten_4 (Flatten)          (None, 3136)              0         \n",
            "_________________________________________________________________\n",
            "dense_12 (Dense)             (None, 64)                200768    \n",
            "_________________________________________________________________\n",
            "dropout_10 (Dropout)         (None, 64)                0         \n",
            "_________________________________________________________________\n",
            "dense_13 (Dense)             (None, 10)                650       \n",
            "=================================================================\n",
            "Total params: 268,106\n",
            "Trainable params: 268,106\n",
            "Non-trainable params: 0\n",
            "_________________________________________________________________\n",
            "None\n"
          ],
          "name": "stdout"
        }
      ]
    },
    {
      "cell_type": "code",
      "metadata": {
        "id": "idmdpzeUmb0b",
        "colab_type": "code",
        "colab": {
          "base_uri": "https://localhost:8080/",
          "height": 187
        },
        "outputId": "f4e4e3e4-bd8c-4e12-a278-d22d54fd71fe"
      },
      "source": [
        "cnn.compile(loss = 'categorical_crossentropy',optimizer='adam',metrics = ['accuracy'])\n",
        "cnn.fit(x_train, y_train, epochs=4,batch_size=128,validation_split = 0.3)\n",
        "y_pred = cnn.predict_classes(x_test)\n",
        "score = cnn.evaluate(x_test, y_test, verbose=1)"
      ],
      "execution_count": 71,
      "outputs": [
        {
          "output_type": "stream",
          "text": [
            "Train on 42000 samples, validate on 18000 samples\n",
            "Epoch 1/4\n",
            "42000/42000 [==============================] - 80s 2ms/step - loss: 0.8053 - acc: 0.7080 - val_loss: 0.4451 - val_acc: 0.8382\n",
            "Epoch 2/4\n",
            "42000/42000 [==============================] - 79s 2ms/step - loss: 0.5251 - acc: 0.8126 - val_loss: 0.3777 - val_acc: 0.8621\n",
            "Epoch 3/4\n",
            "42000/42000 [==============================] - 79s 2ms/step - loss: 0.4458 - acc: 0.8414 - val_loss: 0.3315 - val_acc: 0.8778\n",
            "Epoch 4/4\n",
            "42000/42000 [==============================] - 79s 2ms/step - loss: 0.4034 - acc: 0.8562 - val_loss: 0.2994 - val_acc: 0.8879\n",
            "10000/10000 [==============================] - 4s 402us/step\n"
          ],
          "name": "stdout"
        }
      ]
    },
    {
      "cell_type": "code",
      "metadata": {
        "id": "5XI2Ctjsn1H_",
        "colab_type": "code",
        "colab": {
          "base_uri": "https://localhost:8080/",
          "height": 68
        },
        "outputId": "59b89edd-b69a-4a3b-bcac-11b5a8ef3555"
      },
      "source": [
        "score_train = cnn.evaluate(x_train, y_train, verbose=1)\n",
        "print(\"Train Loss:\", score_train[0])\n",
        "print(\"Train Accuracy:\", score_train[1])"
      ],
      "execution_count": 77,
      "outputs": [
        {
          "output_type": "stream",
          "text": [
            "60000/60000 [==============================] - 23s 390us/step\n",
            "Train Loss: 0.281204110789299\n",
            "Train Accuracy: 0.8951833333333333\n"
          ],
          "name": "stdout"
        }
      ]
    },
    {
      "cell_type": "code",
      "metadata": {
        "id": "OW6Wv0p1q9vW",
        "colab_type": "code",
        "colab": {
          "base_uri": "https://localhost:8080/",
          "height": 51
        },
        "outputId": "db70ed04-5926-4d81-f43d-6d0c32b2934e"
      },
      "source": [
        "print(\"Test Loss:\", score[0])\n",
        "print(\"Test Accuracy:\", score[1])"
      ],
      "execution_count": 72,
      "outputs": [
        {
          "output_type": "stream",
          "text": [
            "Test Loss: 0.3187678870201111\n",
            "Test Accuracy: 0.8827\n"
          ],
          "name": "stdout"
        }
      ]
    },
    {
      "cell_type": "markdown",
      "metadata": {
        "id": "PIAixjc8nynq",
        "colab_type": "text"
      },
      "source": [
        "2.2 Transfer Learning"
      ]
    },
    {
      "cell_type": "code",
      "metadata": {
        "id": "rX34xnILn1qW",
        "colab_type": "code",
        "colab": {
          "base_uri": "https://localhost:8080/",
          "height": 85
        },
        "outputId": "cd7feeb1-3561-4861-caa0-a38e068d9d1b"
      },
      "source": [
        "from keras.applications import VGG19\n",
        "from keras.preprocessing.image import img_to_array, array_to_img\n",
        "tsl = Sequential()\n",
        "vgg = VGG19(weights=\"imagenet\",include_top=False,input_shape=(32,32,3))\n",
        "tsl.add(vgg)\n",
        "tsl.add(Flatten())\n",
        "tsl.add(Dense(32, activation=\"relu\"))\n",
        "tsl.add(Dropout(0.5))\n",
        "tsl.add(Dense(10, activation='softmax'))\n",
        "vgg.trainable = False\n",
        "tsl.trainable_weights"
      ],
      "execution_count": 12,
      "outputs": [
        {
          "output_type": "execute_result",
          "data": {
            "text/plain": [
              "[<tf.Variable 'dense_3/kernel:0' shape=(512, 32) dtype=float32_ref>,\n",
              " <tf.Variable 'dense_3/bias:0' shape=(32,) dtype=float32_ref>,\n",
              " <tf.Variable 'dense_4/kernel:0' shape=(32, 10) dtype=float32_ref>,\n",
              " <tf.Variable 'dense_4/bias:0' shape=(10,) dtype=float32_ref>]"
            ]
          },
          "metadata": {
            "tags": []
          },
          "execution_count": 12
        }
      ]
    },
    {
      "cell_type": "code",
      "metadata": {
        "id": "FZICwCPKw3RM",
        "colab_type": "code",
        "colab": {
          "base_uri": "https://localhost:8080/",
          "height": 323
        },
        "outputId": "e306f5ea-2cb8-429a-d18b-ce49163074e9"
      },
      "source": [
        "tsl.compile(loss='categorical_crossentropy', optimizer='adam', metrics=[\"acc\"])\n",
        "tsl.summary()"
      ],
      "execution_count": 13,
      "outputs": [
        {
          "output_type": "stream",
          "text": [
            "Model: \"sequential_3\"\n",
            "_________________________________________________________________\n",
            "Layer (type)                 Output Shape              Param #   \n",
            "=================================================================\n",
            "vgg19 (Model)                (None, 1, 1, 512)         20024384  \n",
            "_________________________________________________________________\n",
            "flatten_2 (Flatten)          (None, 512)               0         \n",
            "_________________________________________________________________\n",
            "dense_3 (Dense)              (None, 32)                16416     \n",
            "_________________________________________________________________\n",
            "dropout_2 (Dropout)          (None, 32)                0         \n",
            "_________________________________________________________________\n",
            "dense_4 (Dense)              (None, 10)                330       \n",
            "=================================================================\n",
            "Total params: 20,041,130\n",
            "Trainable params: 16,746\n",
            "Non-trainable params: 20,024,384\n",
            "_________________________________________________________________\n"
          ],
          "name": "stdout"
        }
      ]
    },
    {
      "cell_type": "code",
      "metadata": {
        "id": "5KWxpm9CxGKN",
        "colab_type": "code",
        "colab": {
          "base_uri": "https://localhost:8080/",
          "height": 34
        },
        "outputId": "7e18cda6-4c5a-48d5-8875-26b79d0fe355"
      },
      "source": [
        "x_train.shape, x_test.shape"
      ],
      "execution_count": 14,
      "outputs": [
        {
          "output_type": "execute_result",
          "data": {
            "text/plain": [
              "((60000, 28, 28, 1), (10000, 28, 28, 1))"
            ]
          },
          "metadata": {
            "tags": []
          },
          "execution_count": 14
        }
      ]
    },
    {
      "cell_type": "code",
      "metadata": {
        "id": "SeOuS5vGMiQM",
        "colab_type": "code",
        "colab": {}
      },
      "source": [
        "x_train2 = np.pad(x_train, ((0,0),(2,2),(2,2),(1,1)), mode='edge')\n",
        "x_test2 = np.pad(x_test, ((0,0),(2,2),(2,2),(1,1)), mode='edge')"
      ],
      "execution_count": 0,
      "outputs": []
    },
    {
      "cell_type": "code",
      "metadata": {
        "id": "MPBZmyN5Mm87",
        "colab_type": "code",
        "colab": {
          "base_uri": "https://localhost:8080/",
          "height": 34
        },
        "outputId": "6b952590-3abc-450a-ee00-c94c8d7dcff5"
      },
      "source": [
        "x_train2.shape"
      ],
      "execution_count": 16,
      "outputs": [
        {
          "output_type": "execute_result",
          "data": {
            "text/plain": [
              "(60000, 32, 32, 3)"
            ]
          },
          "metadata": {
            "tags": []
          },
          "execution_count": 16
        }
      ]
    },
    {
      "cell_type": "code",
      "metadata": {
        "id": "Tlbrk5CHybNY",
        "colab_type": "code",
        "colab": {
          "base_uri": "https://localhost:8080/",
          "height": 326
        },
        "outputId": "58715991-105e-4587-d0c6-da5b523a9dcb"
      },
      "source": [
        "tsl.fit(x_train2, y_train, epochs=4,batch_size=128,validation_split = 0.3)"
      ],
      "execution_count": 17,
      "outputs": [
        {
          "output_type": "stream",
          "text": [
            "WARNING:tensorflow:From /usr/local/lib/python3.6/dist-packages/tensorflow_core/python/ops/math_grad.py:1424: where (from tensorflow.python.ops.array_ops) is deprecated and will be removed in a future version.\n",
            "Instructions for updating:\n",
            "Use tf.where in 2.0, which has the same broadcast rule as np.where\n",
            "WARNING:tensorflow:From /usr/local/lib/python3.6/dist-packages/keras/backend/tensorflow_backend.py:1033: The name tf.assign_add is deprecated. Please use tf.compat.v1.assign_add instead.\n",
            "\n",
            "WARNING:tensorflow:From /usr/local/lib/python3.6/dist-packages/keras/backend/tensorflow_backend.py:1020: The name tf.assign is deprecated. Please use tf.compat.v1.assign instead.\n",
            "\n",
            "Train on 42000 samples, validate on 18000 samples\n",
            "Epoch 1/4\n",
            "42000/42000 [==============================] - 389s 9ms/step - loss: 1.3056 - acc: 0.5500 - val_loss: 0.7134 - val_acc: 0.7672\n",
            "Epoch 2/4\n",
            "42000/42000 [==============================] - 388s 9ms/step - loss: 0.9024 - acc: 0.6863 - val_loss: 0.6037 - val_acc: 0.7888\n",
            "Epoch 3/4\n",
            "42000/42000 [==============================] - 388s 9ms/step - loss: 0.7997 - acc: 0.7210 - val_loss: 0.5570 - val_acc: 0.8026\n",
            "Epoch 4/4\n",
            "42000/42000 [==============================] - 387s 9ms/step - loss: 0.7441 - acc: 0.7388 - val_loss: 0.5287 - val_acc: 0.8097\n"
          ],
          "name": "stdout"
        },
        {
          "output_type": "execute_result",
          "data": {
            "text/plain": [
              "<keras.callbacks.History at 0x7f90e45cc550>"
            ]
          },
          "metadata": {
            "tags": []
          },
          "execution_count": 17
        }
      ]
    },
    {
      "cell_type": "code",
      "metadata": {
        "id": "g7VKFWkengku",
        "colab_type": "code",
        "colab": {
          "base_uri": "https://localhost:8080/",
          "height": 68
        },
        "outputId": "f515047a-1607-4405-d7af-e23c13e65191"
      },
      "source": [
        "score_train = tsl.evaluate(x_train2, y_train, verbose=1)\n",
        "print('Train loss:', score_train[0])\n",
        "print('Train accuracy:', score_train[1])"
      ],
      "execution_count": 76,
      "outputs": [
        {
          "output_type": "stream",
          "text": [
            "60000/60000 [==============================] - 411s 7ms/step\n",
            "Train loss: 0.5216095808267593\n",
            "Train accuracy: 0.8143666666666667\n"
          ],
          "name": "stdout"
        }
      ]
    },
    {
      "cell_type": "code",
      "metadata": {
        "id": "J7dsOr4XynZ1",
        "colab_type": "code",
        "colab": {
          "base_uri": "https://localhost:8080/",
          "height": 68
        },
        "outputId": "a45e6f1b-0b0a-4a17-c3a6-27a41aa9a2f4"
      },
      "source": [
        "score = tsl.evaluate(x_test2, y_test, verbose=1)\n",
        "print('Test loss:', score[0])\n",
        "print('Test accuracy:', score[1])"
      ],
      "execution_count": 21,
      "outputs": [
        {
          "output_type": "stream",
          "text": [
            "10000/10000 [==============================] - 69s 7ms/step\n",
            "Test loss: 0.5346819851875305\n",
            "Test accuracy: 0.8077\n"
          ],
          "name": "stdout"
        }
      ]
    },
    {
      "cell_type": "markdown",
      "metadata": {
        "id": "K-67qxMtyzQe",
        "colab_type": "text"
      },
      "source": [
        "## **3. Text Classification**"
      ]
    },
    {
      "cell_type": "markdown",
      "metadata": {
        "id": "tqR-1mR4y7K5",
        "colab_type": "text"
      },
      "source": [
        "**3.1 RNN**"
      ]
    },
    {
      "cell_type": "code",
      "metadata": {
        "id": "LPUa0rCMYnOI",
        "colab_type": "code",
        "colab": {
          "base_uri": "https://localhost:8080/",
          "height": 122
        },
        "outputId": "805348eb-46ed-4037-e280-03f7205680c1"
      },
      "source": [
        "from google.colab import drive\n",
        "drive.mount('/content/gdrive/')"
      ],
      "execution_count": 31,
      "outputs": [
        {
          "output_type": "stream",
          "text": [
            "Go to this URL in a browser: https://accounts.google.com/o/oauth2/auth?client_id=947318989803-6bn6qk8qdgf4n4g3pfee6491hc0brc4i.apps.googleusercontent.com&redirect_uri=urn%3aietf%3awg%3aoauth%3a2.0%3aoob&response_type=code&scope=email%20https%3a%2f%2fwww.googleapis.com%2fauth%2fdocs.test%20https%3a%2f%2fwww.googleapis.com%2fauth%2fdrive%20https%3a%2f%2fwww.googleapis.com%2fauth%2fdrive.photos.readonly%20https%3a%2f%2fwww.googleapis.com%2fauth%2fpeopleapi.readonly\n",
            "\n",
            "Enter your authorization code:\n",
            "··········\n",
            "Mounted at /content/gdrive/\n"
          ],
          "name": "stdout"
        }
      ]
    },
    {
      "cell_type": "code",
      "metadata": {
        "id": "sI3BJXGVYydF",
        "colab_type": "code",
        "colab": {}
      },
      "source": [
        "file_path = \"/content/gdrive/My Drive/Colab Notebooks/tweets_with_labels.csv\""
      ],
      "execution_count": 0,
      "outputs": []
    },
    {
      "cell_type": "code",
      "metadata": {
        "id": "fRZgSdeFyyGV",
        "colab_type": "code",
        "colab": {}
      },
      "source": [
        "from keras.preprocessing.text import Tokenizer\n",
        "from keras.preprocessing.sequence import pad_sequences\n",
        "data = pd.read_csv(file_path, sep='\\t', engine='python', index_col=0)\n",
        "\n",
        "tokenizer = Tokenizer(num_words=5000, filters='!\"#$%&()*+,-./:;<=>?@[\\]^_`{|}~', lower=True)\n",
        "tokenizer.fit_on_texts(data['tweet'].values)"
      ],
      "execution_count": 0,
      "outputs": []
    },
    {
      "cell_type": "code",
      "metadata": {
        "id": "mCGEDwZ9W6yy",
        "colab_type": "code",
        "colab": {
          "base_uri": "https://localhost:8080/",
          "height": 235
        },
        "outputId": "a8734e0b-3e28-4d20-9ee9-548af01a92c2"
      },
      "source": [
        "data.head()"
      ],
      "execution_count": 36,
      "outputs": [
        {
          "output_type": "execute_result",
          "data": {
            "text/html": [
              "<div>\n",
              "<style scoped>\n",
              "    .dataframe tbody tr th:only-of-type {\n",
              "        vertical-align: middle;\n",
              "    }\n",
              "\n",
              "    .dataframe tbody tr th {\n",
              "        vertical-align: top;\n",
              "    }\n",
              "\n",
              "    .dataframe thead th {\n",
              "        text-align: right;\n",
              "    }\n",
              "</style>\n",
              "<table border=\"1\" class=\"dataframe\">\n",
              "  <thead>\n",
              "    <tr style=\"text-align: right;\">\n",
              "      <th></th>\n",
              "      <th>tweet</th>\n",
              "      <th>k1</th>\n",
              "      <th>k2</th>\n",
              "      <th>k3</th>\n",
              "      <th>k4</th>\n",
              "      <th>k5</th>\n",
              "      <th>k6</th>\n",
              "      <th>k7</th>\n",
              "      <th>k8</th>\n",
              "      <th>k9</th>\n",
              "      <th>k10</th>\n",
              "      <th>k11</th>\n",
              "      <th>k12</th>\n",
              "      <th>k13</th>\n",
              "      <th>k14</th>\n",
              "      <th>k15</th>\n",
              "    </tr>\n",
              "    <tr>\n",
              "      <th>id</th>\n",
              "      <th></th>\n",
              "      <th></th>\n",
              "      <th></th>\n",
              "      <th></th>\n",
              "      <th></th>\n",
              "      <th></th>\n",
              "      <th></th>\n",
              "      <th></th>\n",
              "      <th></th>\n",
              "      <th></th>\n",
              "      <th></th>\n",
              "      <th></th>\n",
              "      <th></th>\n",
              "      <th></th>\n",
              "      <th></th>\n",
              "      <th></th>\n",
              "    </tr>\n",
              "  </thead>\n",
              "  <tbody>\n",
              "    <tr>\n",
              "      <th>1</th>\n",
              "      <td>Jazz for a Rainy Afternoon:  {link}</td>\n",
              "      <td>0.0</td>\n",
              "      <td>0.0</td>\n",
              "      <td>0.0</td>\n",
              "      <td>0.0</td>\n",
              "      <td>0.0</td>\n",
              "      <td>0.0</td>\n",
              "      <td>0.000</td>\n",
              "      <td>0.0</td>\n",
              "      <td>0.000</td>\n",
              "      <td>1.0</td>\n",
              "      <td>0.0</td>\n",
              "      <td>0.0</td>\n",
              "      <td>0.000</td>\n",
              "      <td>0.0</td>\n",
              "      <td>0.0</td>\n",
              "    </tr>\n",
              "    <tr>\n",
              "      <th>2</th>\n",
              "      <td>RT: @mention: I love rainy days.</td>\n",
              "      <td>0.0</td>\n",
              "      <td>0.0</td>\n",
              "      <td>0.0</td>\n",
              "      <td>0.0</td>\n",
              "      <td>0.0</td>\n",
              "      <td>0.0</td>\n",
              "      <td>0.000</td>\n",
              "      <td>0.0</td>\n",
              "      <td>0.000</td>\n",
              "      <td>1.0</td>\n",
              "      <td>0.0</td>\n",
              "      <td>0.0</td>\n",
              "      <td>0.000</td>\n",
              "      <td>0.0</td>\n",
              "      <td>0.0</td>\n",
              "    </tr>\n",
              "    <tr>\n",
              "      <th>3</th>\n",
              "      <td>Good Morning Chicago! Time to kick the Windy C...</td>\n",
              "      <td>0.0</td>\n",
              "      <td>0.0</td>\n",
              "      <td>0.0</td>\n",
              "      <td>0.0</td>\n",
              "      <td>0.0</td>\n",
              "      <td>0.0</td>\n",
              "      <td>1.000</td>\n",
              "      <td>0.0</td>\n",
              "      <td>0.000</td>\n",
              "      <td>0.0</td>\n",
              "      <td>0.0</td>\n",
              "      <td>0.0</td>\n",
              "      <td>0.000</td>\n",
              "      <td>0.0</td>\n",
              "      <td>0.0</td>\n",
              "    </tr>\n",
              "    <tr>\n",
              "      <th>6</th>\n",
              "      <td>Preach lol! :) RT @mention: #alliwantis this t...</td>\n",
              "      <td>0.0</td>\n",
              "      <td>0.0</td>\n",
              "      <td>0.0</td>\n",
              "      <td>0.0</td>\n",
              "      <td>0.0</td>\n",
              "      <td>0.0</td>\n",
              "      <td>0.604</td>\n",
              "      <td>0.0</td>\n",
              "      <td>0.196</td>\n",
              "      <td>0.0</td>\n",
              "      <td>0.0</td>\n",
              "      <td>0.0</td>\n",
              "      <td>0.201</td>\n",
              "      <td>0.0</td>\n",
              "      <td>0.0</td>\n",
              "    </tr>\n",
              "    <tr>\n",
              "      <th>9</th>\n",
              "      <td>@mention good morning sunshine</td>\n",
              "      <td>0.0</td>\n",
              "      <td>0.0</td>\n",
              "      <td>0.0</td>\n",
              "      <td>0.0</td>\n",
              "      <td>0.0</td>\n",
              "      <td>0.0</td>\n",
              "      <td>0.000</td>\n",
              "      <td>0.0</td>\n",
              "      <td>0.000</td>\n",
              "      <td>0.0</td>\n",
              "      <td>0.0</td>\n",
              "      <td>0.0</td>\n",
              "      <td>1.000</td>\n",
              "      <td>0.0</td>\n",
              "      <td>0.0</td>\n",
              "    </tr>\n",
              "  </tbody>\n",
              "</table>\n",
              "</div>"
            ],
            "text/plain": [
              "                                                tweet   k1  ...  k14  k15\n",
              "id                                                          ...          \n",
              "1                 Jazz for a Rainy Afternoon:  {link}  0.0  ...  0.0  0.0\n",
              "2                    RT: @mention: I love rainy days.  0.0  ...  0.0  0.0\n",
              "3   Good Morning Chicago! Time to kick the Windy C...  0.0  ...  0.0  0.0\n",
              "6   Preach lol! :) RT @mention: #alliwantis this t...  0.0  ...  0.0  0.0\n",
              "9                      @mention good morning sunshine  0.0  ...  0.0  0.0\n",
              "\n",
              "[5 rows x 16 columns]"
            ]
          },
          "metadata": {
            "tags": []
          },
          "execution_count": 36
        }
      ]
    },
    {
      "cell_type": "code",
      "metadata": {
        "id": "bf3h_KooaNiA",
        "colab_type": "code",
        "colab": {
          "base_uri": "https://localhost:8080/",
          "height": 51
        },
        "outputId": "a1786bdf-e644-4e3d-ca73-3cb0fa819f0c"
      },
      "source": [
        "sequences = np.array(tokenizer.texts_to_sequences(data['tweet'].values))\n",
        "print(sequences.shape)\n",
        "dt = pad_sequences(sequences, 64)\n",
        "print(dt.shape)"
      ],
      "execution_count": 43,
      "outputs": [
        {
          "output_type": "stream",
          "text": [
            "(77946,)\n",
            "(77946, 64)\n"
          ],
          "name": "stdout"
        }
      ]
    },
    {
      "cell_type": "code",
      "metadata": {
        "id": "NiLUv49Aa0xo",
        "colab_type": "code",
        "colab": {
          "base_uri": "https://localhost:8080/",
          "height": 34
        },
        "outputId": "c3b613d3-2507-4aea-b99e-dadf871f653f"
      },
      "source": [
        "labels = np.array(data[data.columns[1:]].values)\n",
        "print(labels.shape)\n"
      ],
      "execution_count": 45,
      "outputs": [
        {
          "output_type": "stream",
          "text": [
            "(77946, 15)\n"
          ],
          "name": "stdout"
        }
      ]
    },
    {
      "cell_type": "code",
      "metadata": {
        "id": "ka2uEEgwbfVs",
        "colab_type": "code",
        "colab": {}
      },
      "source": [
        "from sklearn.model_selection import train_test_split\n",
        "x_train3, x_test3, y_train3, y_test3 = train_test_split(dt, labels, test_size=0.2, random_state=9000)"
      ],
      "execution_count": 0,
      "outputs": []
    },
    {
      "cell_type": "code",
      "metadata": {
        "id": "45F-S3Fvb2WJ",
        "colab_type": "code",
        "colab": {
          "base_uri": "https://localhost:8080/",
          "height": 34
        },
        "outputId": "15c7e116-5c5c-49b6-853b-6b6ff2599453"
      },
      "source": [
        "x_train3.shape,x_test3.shape"
      ],
      "execution_count": 48,
      "outputs": [
        {
          "output_type": "execute_result",
          "data": {
            "text/plain": [
              "((62356, 64), (15590, 64))"
            ]
          },
          "metadata": {
            "tags": []
          },
          "execution_count": 48
        }
      ]
    },
    {
      "cell_type": "code",
      "metadata": {
        "id": "pYjSE2RYO2et",
        "colab_type": "code",
        "colab": {
          "base_uri": "https://localhost:8080/",
          "height": 255
        },
        "outputId": "4b46f201-a81f-4589-be54-0c7fa78b1231"
      },
      "source": [
        "lstm = Sequential()\n",
        "lstm.add(Embedding(5000, 32))\n",
        "lstm.add(LSTM(32))\n",
        "lstm.add(Dense(15, activation ='sigmoid'))\n",
        "lstm.compile(loss='binary_crossentropy', optimizer='rmsprop', metrics=['accuracy'])\n",
        "lstm.summary()"
      ],
      "execution_count": 40,
      "outputs": [
        {
          "output_type": "stream",
          "text": [
            "Model: \"sequential_6\"\n",
            "_________________________________________________________________\n",
            "Layer (type)                 Output Shape              Param #   \n",
            "=================================================================\n",
            "embedding_1 (Embedding)      (None, None, 32)          160000    \n",
            "_________________________________________________________________\n",
            "lstm_1 (LSTM)                (None, 32)                8320      \n",
            "_________________________________________________________________\n",
            "dense_5 (Dense)              (None, 15)                495       \n",
            "=================================================================\n",
            "Total params: 168,815\n",
            "Trainable params: 168,815\n",
            "Non-trainable params: 0\n",
            "_________________________________________________________________\n"
          ],
          "name": "stdout"
        }
      ]
    },
    {
      "cell_type": "code",
      "metadata": {
        "id": "c4mfW9Fpb8cr",
        "colab_type": "code",
        "colab": {
          "base_uri": "https://localhost:8080/",
          "height": 544
        },
        "outputId": "3da81810-d81b-4938-d8d8-681a574e34ed"
      },
      "source": [
        "lstm_fit = lstm.fit(x_train3, y_train3, epochs=15, batch_size=256, validation_data=(x_test3, y_test3))"
      ],
      "execution_count": 49,
      "outputs": [
        {
          "output_type": "stream",
          "text": [
            "Train on 62356 samples, validate on 15590 samples\n",
            "Epoch 1/15\n",
            "62356/62356 [==============================] - 17s 272us/step - loss: 0.2650 - acc: 0.8677 - val_loss: 0.2197 - val_acc: 0.8743\n",
            "Epoch 2/15\n",
            "62356/62356 [==============================] - 17s 266us/step - loss: 0.1945 - acc: 0.8797 - val_loss: 0.1728 - val_acc: 0.8876\n",
            "Epoch 3/15\n",
            "62356/62356 [==============================] - 16s 257us/step - loss: 0.1561 - acc: 0.8947 - val_loss: 0.1430 - val_acc: 0.9002\n",
            "Epoch 4/15\n",
            "62356/62356 [==============================] - 16s 260us/step - loss: 0.1315 - acc: 0.9044 - val_loss: 0.1238 - val_acc: 0.9058\n",
            "Epoch 5/15\n",
            "62356/62356 [==============================] - 16s 263us/step - loss: 0.1173 - acc: 0.9079 - val_loss: 0.1151 - val_acc: 0.9082\n",
            "Epoch 6/15\n",
            "62356/62356 [==============================] - 16s 262us/step - loss: 0.1091 - acc: 0.9110 - val_loss: 0.1092 - val_acc: 0.9105\n",
            "Epoch 7/15\n",
            "62356/62356 [==============================] - 16s 259us/step - loss: 0.1036 - acc: 0.9123 - val_loss: 0.1048 - val_acc: 0.9114\n",
            "Epoch 8/15\n",
            "62356/62356 [==============================] - 16s 260us/step - loss: 0.0998 - acc: 0.9132 - val_loss: 0.1043 - val_acc: 0.9116\n",
            "Epoch 9/15\n",
            "62356/62356 [==============================] - 16s 258us/step - loss: 0.0972 - acc: 0.9137 - val_loss: 0.1020 - val_acc: 0.9120\n",
            "Epoch 10/15\n",
            "62356/62356 [==============================] - 16s 260us/step - loss: 0.0952 - acc: 0.9140 - val_loss: 0.1006 - val_acc: 0.9122\n",
            "Epoch 11/15\n",
            "62356/62356 [==============================] - 16s 259us/step - loss: 0.0937 - acc: 0.9143 - val_loss: 0.0996 - val_acc: 0.9124\n",
            "Epoch 12/15\n",
            "62356/62356 [==============================] - 16s 259us/step - loss: 0.0924 - acc: 0.9145 - val_loss: 0.1007 - val_acc: 0.9123\n",
            "Epoch 13/15\n",
            "62356/62356 [==============================] - 16s 257us/step - loss: 0.0913 - acc: 0.9147 - val_loss: 0.0999 - val_acc: 0.9122\n",
            "Epoch 14/15\n",
            "62356/62356 [==============================] - 16s 257us/step - loss: 0.0904 - acc: 0.9148 - val_loss: 0.0981 - val_acc: 0.9126\n",
            "Epoch 15/15\n",
            "62356/62356 [==============================] - 16s 259us/step - loss: 0.0895 - acc: 0.9150 - val_loss: 0.0986 - val_acc: 0.9125\n"
          ],
          "name": "stdout"
        }
      ]
    },
    {
      "cell_type": "code",
      "metadata": {
        "id": "uyrDWDUGdb6h",
        "colab_type": "code",
        "colab": {
          "base_uri": "https://localhost:8080/",
          "height": 34
        },
        "outputId": "6a7d05a7-8248-49bd-e8fa-d9acda07fa63"
      },
      "source": [
        "score_lstm = lstm.evaluate(x_test3, y_test3)"
      ],
      "execution_count": 50,
      "outputs": [
        {
          "output_type": "stream",
          "text": [
            "15590/15590 [==============================] - 3s 199us/step\n"
          ],
          "name": "stdout"
        }
      ]
    },
    {
      "cell_type": "code",
      "metadata": {
        "id": "1dkvjx_fl90a",
        "colab_type": "code",
        "colab": {
          "base_uri": "https://localhost:8080/",
          "height": 51
        },
        "outputId": "f53cdc08-ea6f-43c8-80f0-05f9def7928c"
      },
      "source": [
        "print('Test loss:', score_lstm[0])\n",
        "print('Test accuracy:', score_lstm[1])"
      ],
      "execution_count": 73,
      "outputs": [
        {
          "output_type": "stream",
          "text": [
            "Test loss: 0.0985502520008604\n",
            "Test accuracy: 0.9124823686096284\n"
          ],
          "name": "stdout"
        }
      ]
    },
    {
      "cell_type": "markdown",
      "metadata": {
        "id": "on0XMuBgdoGd",
        "colab_type": "text"
      },
      "source": [
        "3.2 CNN"
      ]
    },
    {
      "cell_type": "code",
      "metadata": {
        "id": "68To42SOdioc",
        "colab_type": "code",
        "colab": {
          "base_uri": "https://localhost:8080/",
          "height": 374
        },
        "outputId": "44a0a229-cf31-423a-828d-18c9cbe27e09"
      },
      "source": [
        "cnn_model = Sequential()\n",
        "cnn_model.add(Embedding(5000,64))\n",
        "cnn_model.add(Conv1D(64, kernel_size = 3,padding='valid',activation='relu',strides=1))\n",
        "cnn_model.add(GlobalMaxPooling1D())\n",
        "cnn_model.add(Dropout(0.5))\n",
        "cnn_model.add(Dense(64,activation='relu'))\n",
        "cnn_model.add(Dense(15,activation='softmax'))\n",
        "cnn_model.compile(optimizer = 'adam',loss = 'categorical_crossentropy',metrics=['acc'])\n",
        "cnn_history = cnn_model.fit(x_train3,y_train3,epochs = 10,validation_data = (x_test3, y_test3), batch_size = 64,verbose=1)"
      ],
      "execution_count": 54,
      "outputs": [
        {
          "output_type": "stream",
          "text": [
            "Train on 62356 samples, validate on 15590 samples\n",
            "Epoch 1/10\n",
            "62356/62356 [==============================] - 13s 204us/step - loss: 1.6222 - acc: 0.7158 - val_loss: 1.1764 - val_acc: 0.8210\n",
            "Epoch 2/10\n",
            "62356/62356 [==============================] - 12s 188us/step - loss: 1.2443 - acc: 0.8081 - val_loss: 1.1247 - val_acc: 0.8273\n",
            "Epoch 3/10\n",
            "62356/62356 [==============================] - 12s 186us/step - loss: 1.1772 - acc: 0.8158 - val_loss: 1.1047 - val_acc: 0.8225\n",
            "Epoch 4/10\n",
            "62356/62356 [==============================] - 12s 186us/step - loss: 1.1350 - acc: 0.8199 - val_loss: 1.0923 - val_acc: 0.8251\n",
            "Epoch 5/10\n",
            "62356/62356 [==============================] - 12s 188us/step - loss: 1.1117 - acc: 0.8210 - val_loss: 1.0896 - val_acc: 0.8239\n",
            "Epoch 6/10\n",
            "62356/62356 [==============================] - 12s 188us/step - loss: 1.0931 - acc: 0.8257 - val_loss: 1.0878 - val_acc: 0.8272\n",
            "Epoch 7/10\n",
            "62356/62356 [==============================] - 12s 196us/step - loss: 1.0788 - acc: 0.8282 - val_loss: 1.0868 - val_acc: 0.8282\n",
            "Epoch 8/10\n",
            "62356/62356 [==============================] - 12s 187us/step - loss: 1.0639 - acc: 0.8311 - val_loss: 1.0843 - val_acc: 0.8271\n",
            "Epoch 9/10\n",
            "62356/62356 [==============================] - 12s 185us/step - loss: 1.0554 - acc: 0.8315 - val_loss: 1.0826 - val_acc: 0.8285\n",
            "Epoch 10/10\n",
            "62356/62356 [==============================] - 12s 185us/step - loss: 1.0433 - acc: 0.8331 - val_loss: 1.0842 - val_acc: 0.8263\n"
          ],
          "name": "stdout"
        }
      ]
    },
    {
      "cell_type": "code",
      "metadata": {
        "id": "U-i1W1xugSvy",
        "colab_type": "code",
        "colab": {
          "base_uri": "https://localhost:8080/",
          "height": 34
        },
        "outputId": "69e7a501-af65-4ce0-989f-8a858cb16a93"
      },
      "source": [
        "score_cnn = cnn_model.evaluate(x_test3, y_test3)"
      ],
      "execution_count": 55,
      "outputs": [
        {
          "output_type": "stream",
          "text": [
            "15590/15590 [==============================] - 1s 56us/step\n"
          ],
          "name": "stdout"
        }
      ]
    },
    {
      "cell_type": "code",
      "metadata": {
        "id": "VfoFIphgmCWy",
        "colab_type": "code",
        "colab": {
          "base_uri": "https://localhost:8080/",
          "height": 51
        },
        "outputId": "fe92e181-f0c3-44b3-bb8e-e8060382ab73"
      },
      "source": [
        "print('Test loss:', score_cnn[0])\n",
        "print('Test accuracy:', score_cnn[1])"
      ],
      "execution_count": 74,
      "outputs": [
        {
          "output_type": "stream",
          "text": [
            "Test loss: 1.0841872173444516\n",
            "Test accuracy: 0.826298909549762\n"
          ],
          "name": "stdout"
        }
      ]
    },
    {
      "cell_type": "markdown",
      "metadata": {
        "id": "NG67k_UihR6R",
        "colab_type": "text"
      },
      "source": [
        "3.3 Compare models"
      ]
    },
    {
      "cell_type": "code",
      "metadata": {
        "id": "3M3F3OZihXKr",
        "colab_type": "code",
        "colab": {}
      },
      "source": [
        "from sklearn.metrics import roc_curve, roc_auc_score"
      ],
      "execution_count": 0,
      "outputs": []
    },
    {
      "cell_type": "code",
      "metadata": {
        "id": "BoXmT-Kditlc",
        "colab_type": "code",
        "colab": {}
      },
      "source": [
        "\n",
        "res_lstm = lstm.predict(x_test3)\n",
        "res = cnn_model.predict(x_test3)"
      ],
      "execution_count": 0,
      "outputs": []
    },
    {
      "cell_type": "code",
      "metadata": {
        "id": "PjmMVLeAi8LT",
        "colab_type": "code",
        "colab": {}
      },
      "source": [
        "y_test3 = np.where(y_test3 > 0, 1, 0)"
      ],
      "execution_count": 0,
      "outputs": []
    },
    {
      "cell_type": "code",
      "metadata": {
        "id": "oGphVbYxiZxd",
        "colab_type": "code",
        "colab": {}
      },
      "source": [
        "\n",
        "f_lstm, t_lstm, _ = roc_curve(y_test3.ravel(), res_lstm.ravel())\n",
        "f_cnn, t_cnn, _ = roc_curve(y_test3.ravel(), res.ravel())"
      ],
      "execution_count": 0,
      "outputs": []
    },
    {
      "cell_type": "code",
      "metadata": {
        "id": "6VusrR7Ch9jJ",
        "colab_type": "code",
        "colab": {
          "base_uri": "https://localhost:8080/",
          "height": 295
        },
        "outputId": "18af69ed-b809-4009-bc0a-7eacbad15a49"
      },
      "source": [
        "plt.figure()\n",
        "plt.plot(f_lstm, t_lstm, label='LSTM')\n",
        "plt.plot(f_cnn, t_cnn, label='CNN')\n",
        "plt.plot([0, 1], [0, 1], color='navy', linestyle='--')\n",
        "plt.xlim([0.0, 1.0])\n",
        "plt.ylim([0.0, 1.0])\n",
        "plt.xlabel('False Positive Rate')\n",
        "plt.ylabel('True Positive Rate')\n",
        "plt.title('micro-average ROC curve')\n",
        "plt.legend(loc=\"lower right\")\n",
        "plt.show()"
      ],
      "execution_count": 61,
      "outputs": [
        {
          "output_type": "display_data",
          "data": {
            "image/png": "[encoded data removed]",
            "text/plain": [
              "<Figure size 432x288 with 1 Axes>"
            ]
          },
          "metadata": {
            "tags": []
          }
        }
      ]
    }
  ]
}